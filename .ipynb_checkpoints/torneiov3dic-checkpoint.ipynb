{
 "cells": [
  {
   "cell_type": "code",
   "execution_count": null,
   "id": "f5cf173d",
   "metadata": {},
   "outputs": [],
   "source": [
    "#~criar um sistema para cadastrar os dados e uma senha~ *jogar num banco de dados*\n",
    "#criar um sistema de login em que o nome de usuario seja o nome e a senha seja a que foi cadastrada\n",
    "#ao logar, os dados do usuario serão mostrados\n",
    "#ATENÇÃO, O ERRO É QUE O LINK DAS IMAGENS SÃO DIFERENTES PRA CADA CHAR\n",
    "#tentar adcionar o conhecimento em dicionarios "
   ]
  },
  {
   "cell_type": "code",
   "execution_count": null,
   "id": "4ab534db",
   "metadata": {},
   "outputs": [],
   "source": [
    "bancodedados=[]\n",
    "cadastro={}\n",
    "personagens=['Anji','Axl','Chipp','Faust','Giovanna','Goldlewis','I-no','Jack-o','Ky','Leo',\n",
    "             'May','Millia','Nagoriyuki','Potemkin','Ramlethal','Sol','Zato-1']\n",
    "def cadastramento():\n",
    "    usuario=str(input('Crie o seu login: '))  \n",
    "    cadastro['usuario']=usuario\n",
    "    senha=' '\n",
    "    senhaverificar=''\n",
    "    while senhaverificar != senha:\n",
    "        senha=str(input('Crie uma senha:  '))\n",
    "        senhaverificar=str(input('Repita sua senha.'))\n",
    "        if senhaverificar != senha:\n",
    "            print('Senhas não conhecidem, favor digitar novamente sua senha')\n",
    "    cadastro['senha']=senha\n",
    "    cadastro['nome']=str(input('Digite seu nome:  '))       \n",
    "    cadastro['idade']=str(int(input('Digite sua idade: ')))\n",
    "    char=' '\n",
    "    while char not in personagens:\n",
    "        char=str(input('Personagem utilizado: ').capitalize())\n",
    "        if char not in personagens:\n",
    "            print('Personagem não existe, por favor tente novamente.')\n",
    "    cadastro['char']=char\n",
    "\n",
    "    #cadastras esses dados num banco de dados ficticio\n",
    "    bancodedados.append(cadastro.copy())\n",
    "    bdd=open(f'{usuario}_{senha}.txt', 'w')\n",
    "    bdd.write(f\"Parabéns, {nome}!\\n\")\n",
    "    bdd.write(f\"Cadastro já realizado, o torneio será realizado dia 30/02/2022\\n\")\n",
    "    bdd.write(f\"O personagem escolhido foi {char}!\\n\")\n",
    "    bdd.write(f\"Boa sorte!\\n\")\n",
    "    bdd.close()\n",
    "    print('=-'*30,'=')\n",
    "    print('CADASTRO FINALIZADO.')\n",
    "    print('O torneio será realizado no dia 30/02/2022')\n",
    "    print('Para acessar as informações do seu cadastro, por favor insira seu login e senha.')\n",
    "    print('=-'*30,'=')\n",
    "    \n",
    "def logar():\n",
    "    usuariologin=input('Digite seu usario: ')\n",
    "    senhalogin=input('Digite sua senha:  ')\n",
    "    arqv=open(f'{usuariologin}_{senhalogin}.txt')\n",
    "    print('=-'*30,'=')\n",
    "    print(arqv.read())\n",
    "    print('=-'*30,'=')\n",
    "    \n",
    "\n",
    "\n",
    "\n",
    "\n"
   ]
  },
  {
   "cell_type": "code",
   "execution_count": null,
   "id": "00cb3912",
   "metadata": {},
   "outputs": [],
   "source": [
    "#apos cadastrado, fazer o login\n",
    "\n",
    "usuariologin=input('Digite seu usario: ')\n",
    "senhalogin=input('Digite sua senha:  ')\n",
    "\n",
    "arqv=open(f'{usuariologin}_{senhalogin}.txt')\n",
    "\n",
    "\n",
    "\n",
    "\n",
    "print('=-'*30,'=')\n",
    "print(arqv.read())\n",
    "print('=-'*30,'=')\n",
    "\n",
    "\n",
    "\n",
    "\n",
    "\n",
    "\n",
    "\n",
    "\n",
    "\n",
    "    "
   ]
  },
  {
   "cell_type": "code",
   "execution_count": null,
   "id": "35c1aaee",
   "metadata": {},
   "outputs": [],
   "source": []
  }
 ],
 "metadata": {
  "kernelspec": {
   "display_name": "Python 3",
   "language": "python",
   "name": "python3"
  },
  "language_info": {
   "codemirror_mode": {
    "name": "ipython",
    "version": 3
   },
   "file_extension": ".py",
   "mimetype": "text/x-python",
   "name": "python",
   "nbconvert_exporter": "python",
   "pygments_lexer": "ipython3",
   "version": "3.8.8"
  }
 },
 "nbformat": 4,
 "nbformat_minor": 5
}
