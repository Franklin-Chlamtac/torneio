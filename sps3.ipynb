{
 "cells": [
  {
   "cell_type": "code",
   "execution_count": null,
   "id": "f5cf173d",
   "metadata": {},
   "outputs": [],
   "source": [
    "#~criar um sistema para cadastrar os dados e uma senha~ *jogar num banco de dados*\n",
    "#criar um sistema de login em que o nome de usuario seja o nome e a senha seja a que foi cadastrada\n",
    "#ao logar, os dados do usuario serão mostrados\n",
    "#ATENÇÃO, O ERRO É QUE O LINK DAS IMAGENS SÃO DIFERENTES PRA CADA CHAR\n",
    "#tentar adcionar o conhecimento em dicionarios "
   ]
  },
  {
   "cell_type": "code",
   "execution_count": 16,
   "id": "4ab534db",
   "metadata": {},
   "outputs": [
    {
     "name": "stdout",
     "output_type": "stream",
     "text": [
      "Crie o seu login: f123\n",
      "Crie uma senha:  epic123\n",
      "Repita sua senha.epic123\n",
      "Digite seu nome:  franklin\n",
      "Digite sua idade: 24\n",
      "Personagem utilizado: giovanna\n",
      "=-=-=-=-=-=-=-=-=-=-=-=-=-=-=-=-=-=-=-=-=-=-=-=-=-=-=-=-=-=- =\n",
      "CADASTRO FINALIZADO.\n",
      "O torneio será realizado no dia 30/02/2022\n",
      "Para acessar as informações do seu cadastro, por favor insira seu login e senha.\n",
      "=-=-=-=-=-=-=-=-=-=-=-=-=-=-=-=-=-=-=-=-=-=-=-=-=-=-=-=-=-=- =\n"
     ]
    }
   ],
   "source": [
    "bancodedados=[]\n",
    "cadastro={}\n",
    "personagens=['Anji','Axl','Chipp','Faust','Giovanna','Goldlewis','I-no','Jack-o','Ky','Leo',\n",
    "             'May','Millia','Nagoriyuki','Potemkin','Ramlethal','Sol','Zato-1']\n",
    "usuario=str(input('Crie o seu login: '))  \n",
    "cadastro['usuario']=usuario\n",
    "senha=' '\n",
    "senhaverificar=''\n",
    "while senhaverificar != senha:\n",
    "    senha=str(input('Crie uma senha:  '))\n",
    "    senhaverificar=str(input('Repita sua senha.'))\n",
    "    if senhaverificar != senha:\n",
    "        print('Senhas não conhecidem, favor digitar novamente sua senha')\n",
    "cadastro['senha']=senha\n",
    "cadastro['nome']=str(input('Digite seu nome:  '))       \n",
    "cadastro['idade']=str(int(input('Digite sua idade: ')))\n",
    "char=' '\n",
    "while char not in personagens:\n",
    "    char=str(input('Personagem utilizado: ').capitalize())\n",
    "    if char not in personagens:\n",
    "        print('Personagem não existe, por favor tente novamente.')\n",
    "cadastro['char']=char\n",
    "    \n",
    "#cadastras esses dados num banco de dados ficticio\n",
    "bancodedados.append(cadastro.copy())\n",
    "bdd=open(f'{usuario}_{senha}.txt', 'w')\n",
    "bdd.write(f\"Parabéns, {nome}!\\n\")\n",
    "bdd.write(f\"Cadastro já realizado, o torneio será realizado dia 30/02/2022\\n\")\n",
    "bdd.write(f\"O personagem escolhido foi {char}!\\n\")\n",
    "bdd.write(f\"Boa sorte!\\n\")\n",
    "bdd.close()\n",
    "print('=-'*30,'=')\n",
    "print('CADASTRO FINALIZADO.')\n",
    "print('O torneio será realizado no dia 30/02/2022')\n",
    "print('Para acessar as informações do seu cadastro, por favor insira seu login e senha.')\n",
    "print('=-'*30,'=')\n",
    "\n",
    "\n",
    "\n",
    "\n"
   ]
  },
  {
   "cell_type": "code",
   "execution_count": 20,
   "id": "00cb3912",
   "metadata": {},
   "outputs": [
    {
     "name": "stdout",
     "output_type": "stream",
     "text": [
      "Digite seu usario: f123\n",
      "Digite sua senha:  epic123\n",
      "=-=-=-=-=-=-=-=-=-=-=-=-=-=-=-=-=-=-=-=-=-=-=-=-=-=-=-=-=-=- =\n",
      "Parabéns, franklin chlamtac!\n",
      "Cadastro já realizado, o torneio será realizado dia 30/02/2022\n",
      "O personagem escolhido foi Giovanna!\n",
      "Boa sorte!\n",
      "\n",
      "=-=-=-=-=-=-=-=-=-=-=-=-=-=-=-=-=-=-=-=-=-=-=-=-=-=-=-=-=-=- =\n"
     ]
    }
   ],
   "source": [
    "#apos cadastrado, fazer o login\n",
    "\n",
    "usuariologin=input('Digite seu usario: ')\n",
    "senhalogin=input('Digite sua senha:  ')\n",
    "\n",
    "arqv=open(f'{usuariologin}_{senhalogin}.txt')\n",
    "\n",
    "\n",
    "\n",
    "\n",
    "print('=-'*30,'=')\n",
    "print(arqv.read())\n",
    "print('=-'*30,'=')\n",
    "\n",
    "\n",
    "\n",
    "\n",
    "\n",
    "\n",
    "\n",
    "\n",
    "\n",
    "    "
   ]
  },
  {
   "cell_type": "code",
   "execution_count": null,
   "id": "35c1aaee",
   "metadata": {},
   "outputs": [],
   "source": []
  }
 ],
 "metadata": {
  "kernelspec": {
   "display_name": "Python 3",
   "language": "python",
   "name": "python3"
  },
  "language_info": {
   "codemirror_mode": {
    "name": "ipython",
    "version": 3
   },
   "file_extension": ".py",
   "mimetype": "text/x-python",
   "name": "python",
   "nbconvert_exporter": "python",
   "pygments_lexer": "ipython3",
   "version": "3.8.8"
  }
 },
 "nbformat": 4,
 "nbformat_minor": 5
}
